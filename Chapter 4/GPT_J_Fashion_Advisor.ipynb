{
  "nbformat": 4,
  "nbformat_minor": 0,
  "metadata": {
    "colab": {
      "name": "GPT-J Fashion Advisor",
      "provenance": [],
      "collapsed_sections": []
    },
    "kernelspec": {
      "name": "python3",
      "display_name": "Python 3"
    },
    "language_info": {
      "name": "python"
    }
  },
  "cells": [
    {
      "cell_type": "code",
      "metadata": {
        "colab": {
          "base_uri": "https://localhost:8080/"
        },
        "id": "1aSMC5aRk5fq",
        "outputId": "88ab9e0e-9b71-4f1a-b990-e2535fa47095"
      },
      "source": [
        "!pip install gptj"
      ],
      "execution_count": null,
      "outputs": [
        {
          "output_type": "stream",
          "name": "stdout",
          "text": [
            "Collecting gptj\n",
            "  Downloading gptj-2.2.5-py3-none-any.whl (14 kB)\n",
            "Collecting ProfanityDetector\n",
            "  Downloading ProfanityDetector-0.2-py3-none-any.whl (14 kB)\n",
            "Collecting cryptography\n",
            "  Downloading cryptography-3.4.8-cp36-abi3-manylinux_2_24_x86_64.whl (3.0 MB)\n",
            "\u001b[K     |████████████████████████████████| 3.0 MB 33.7 MB/s \n",
            "\u001b[?25hRequirement already satisfied: requests in /usr/local/lib/python3.7/dist-packages (from gptj) (2.23.0)\n",
            "Requirement already satisfied: cffi>=1.12 in /usr/local/lib/python3.7/dist-packages (from cryptography->gptj) (1.14.6)\n",
            "Requirement already satisfied: pycparser in /usr/local/lib/python3.7/dist-packages (from cffi>=1.12->cryptography->gptj) (2.20)\n",
            "Requirement already satisfied: idna<3,>=2.5 in /usr/local/lib/python3.7/dist-packages (from requests->gptj) (2.10)\n",
            "Requirement already satisfied: urllib3!=1.25.0,!=1.25.1,<1.26,>=1.21.1 in /usr/local/lib/python3.7/dist-packages (from requests->gptj) (1.24.3)\n",
            "Requirement already satisfied: certifi>=2017.4.17 in /usr/local/lib/python3.7/dist-packages (from requests->gptj) (2021.5.30)\n",
            "Requirement already satisfied: chardet<4,>=3.0.2 in /usr/local/lib/python3.7/dist-packages (from requests->gptj) (3.0.4)\n",
            "Installing collected packages: ProfanityDetector, cryptography, gptj\n",
            "Successfully installed ProfanityDetector-0.2 cryptography-3.4.8 gptj-2.2.5\n"
          ]
        }
      ]
    },
    {
      "cell_type": "code",
      "metadata": {
        "colab": {
          "base_uri": "https://localhost:8080/"
        },
        "id": "eR-xPh2Yk8xu",
        "outputId": "113f10bf-0026-4eeb-cac6-16a2d2b4f5f4"
      },
      "source": [
        "from GPTJ.Basic_api import SimpleCompletion\n",
        "\n",
        "prompt = \"Recommend a fashion item based on a list of clothes item.\\n##\\nWearing: Floral skirt\\nFashion item: Try a black-and-white polkadot shirt for the classic floral and dot combo!\\n##\\nWearing: Blue denim jacket\\nFashion item: Try golden yellow eye-shadow for a warm blue and gold glow!\\n##\\nWearing: Red lipstick\\nFashion item: Pair your red lipstick with a red dress and red heels for a triple threat!\\n##\\nWearing: \" + item + \"\\nFashion item:\"\n",
        "temperature = 0.4\n",
        "top_probability = 1.0\n",
        "max_length = 15\n",
        "item = \"Orange shorts\"\n",
        "query = SimpleCompletion(prompt, length=max_length, t=temperature, top=top_probability)\n",
        "\n",
        "Query = query.simple_completion()\n",
        "\n",
        "lines = Query.splitlines()\n",
        "results = []\n"
      ],
      "execution_count": null,
      "outputs": [
        {
          "output_type": "stream",
          "name": "stdout",
          "text": [
            " Try a dark blue top and orange heels for a bright pop of color!\n"
          ]
        }
      ]
    },
    {
      "cell_type": "code",
      "metadata": {
        "id": "5epyYfvqo3YE"
      },
      "source": [
        ""
      ],
      "execution_count": null,
      "outputs": []
    }
  ]
}