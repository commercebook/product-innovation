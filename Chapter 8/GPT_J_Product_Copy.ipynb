{
  "nbformat": 4,
  "nbformat_minor": 0,
  "metadata": {
    "colab": {
      "name": "GPT-J Product Copy",
      "provenance": [],
      "collapsed_sections": []
    },
    "kernelspec": {
      "name": "python3",
      "display_name": "Python 3"
    },
    "language_info": {
      "name": "python"
    }
  },
  "cells": [
    {
      "cell_type": "code",
      "metadata": {
        "colab": {
          "base_uri": "https://localhost:8080/"
        },
        "id": "1aSMC5aRk5fq",
        "outputId": "585ae940-700a-4f06-e63b-997f48487a63"
      },
      "source": [
        "!pip install gptj"
      ],
      "execution_count": 2,
      "outputs": [
        {
          "output_type": "stream",
          "name": "stdout",
          "text": [
            "Collecting gptj\n",
            "  Downloading gptj-2.2.5-py3-none-any.whl (14 kB)\n",
            "Collecting ProfanityDetector\n",
            "  Downloading ProfanityDetector-0.2-py3-none-any.whl (14 kB)\n",
            "Collecting cryptography\n",
            "  Downloading cryptography-3.4.8-cp36-abi3-manylinux_2_24_x86_64.whl (3.0 MB)\n",
            "\u001b[K     |████████████████████████████████| 3.0 MB 7.2 MB/s \n",
            "\u001b[?25hRequirement already satisfied: requests in /usr/local/lib/python3.7/dist-packages (from gptj) (2.23.0)\n",
            "Requirement already satisfied: cffi>=1.12 in /usr/local/lib/python3.7/dist-packages (from cryptography->gptj) (1.14.6)\n",
            "Requirement already satisfied: pycparser in /usr/local/lib/python3.7/dist-packages (from cffi>=1.12->cryptography->gptj) (2.20)\n",
            "Requirement already satisfied: certifi>=2017.4.17 in /usr/local/lib/python3.7/dist-packages (from requests->gptj) (2021.5.30)\n",
            "Requirement already satisfied: chardet<4,>=3.0.2 in /usr/local/lib/python3.7/dist-packages (from requests->gptj) (3.0.4)\n",
            "Requirement already satisfied: idna<3,>=2.5 in /usr/local/lib/python3.7/dist-packages (from requests->gptj) (2.10)\n",
            "Requirement already satisfied: urllib3!=1.25.0,!=1.25.1,<1.26,>=1.21.1 in /usr/local/lib/python3.7/dist-packages (from requests->gptj) (1.24.3)\n",
            "Installing collected packages: ProfanityDetector, cryptography, gptj\n",
            "Successfully installed ProfanityDetector-0.2 cryptography-3.4.8 gptj-2.2.5\n"
          ]
        }
      ]
    },
    {
      "cell_type": "markdown",
      "metadata": {
        "id": "EBKc-AptF8zl"
      },
      "source": [
        "# Generating Product Descriptions"
      ]
    },
    {
      "cell_type": "code",
      "metadata": {
        "colab": {
          "base_uri": "https://localhost:8080/"
        },
        "id": "eR-xPh2Yk8xu",
        "outputId": "71e41672-431d-4dcf-e379-4c1792e9bc8b"
      },
      "source": [
        "from GPTJ.Basic_api import SimpleCompletion\n",
        "\n",
        "product = 'SlimWallet'\n",
        "features =  \"- Made of top quality, abrasion-proof fabric\\n- 5 times thinner than a traditional leather wallet\\n- Holds up to 15 cards\"\n",
        "\n",
        "prompt = \"Write one sentence descriptions for products based on a list of features.\\n##\\nProduct: Sundef\\nFeatures:\\n- Sunscreen for athletes\\n- Unique formula to prevent burning eyes\\n- Can be worn on the body and on the face\\nOne sentence description: Sundef face & body sunscreen for athletes keeps your skin protected without hurting your eyes, so you can keep your head in the game.\\n##\\nProduct: \" + product + \"\\nFeatures:\\n\" + features + \"\\nOne sentence description:\"\n",
        "temperature = 0.4\n",
        "top_probability = 1.0\n",
        "max_length = 25\n",
        "query = SimpleCompletion(prompt, length=max_length, t=temperature, top=top_probability)\n",
        "\n",
        "Query = query.simple_completion()\n",
        "lines = Query.splitlines()\n"
      ],
      "execution_count": 12,
      "outputs": [
        {
          "output_type": "stream",
          "name": "stdout",
          "text": [
            " SlimWallet is the most stylish, thin, and durable wallet you’ve ever seen. It holds up to 15 cards\n"
          ]
        }
      ]
    },
    {
      "cell_type": "markdown",
      "metadata": {
        "id": "TyrgPsKqF3BR"
      },
      "source": [
        "# Extracting Areas for Improvement From Product Reviews"
      ]
    },
    {
      "cell_type": "code",
      "metadata": {
        "colab": {
          "base_uri": "https://localhost:8080/"
        },
        "id": "JP5X2DSlBavv",
        "outputId": "564120b9-320c-4e38-c2a7-ef3768d45ab6"
      },
      "source": [
        "from GPTJ.Basic_api import SimpleCompletion\n",
        "\n",
        "prompt = \"Review: There is a reason this phone is half the price of other models since it’s missing some luxury features. Apparently this phone isn’t waterproof, which comes as a surprise to me since I’ve never known any phone to be waterproof and am always careful with my phones around water. Wireless charging capability is also missing from this phone so you may miss that feature if wireless charging is your thing. It really isn't a big deal though since the battery lasts so long this phone is rarely on the charger anyway.\\nAreas for improvement: [Waterproof, wireless charging]\\n###\\nReview: I just received this and have already experienced video call issues in terms of the quality, on whatsapp and duo. My callers get terribly pixelated videos of me that are so bad that they can't even see my face anymore. And other times it gets so blurry and visually noisy especially in low light settings, with a pixelated areas. I know it is not my internet speed because I've never experienced this before with my last pixel xl phone. I noticed this issue before the Android 11 update but it still continued afterwards. Nothing changes even after I restart. The phone is not even a day old. I'm not sure what to do now. I was so excited to finally receive the phone after waiting for so long, but this is unacceptable.\\nAreas for improvement: [Video calling]\\n###\\nReview: They claim phone battery last 24 hours, not even close. 12hours max so far with data and bluetooth turned off and shuting down some other bells and whistles. I don't use my phone much. I switch off the annoying gestures and put the home button on. It's easier to navigate that way. Spotify has crashed twice so far with this phone.\\nAreas for improvement:\"\n",
        "temperature = 0.4\n",
        "top_probability = 1.0\n",
        "max_length = 25\n",
        "query = SimpleCompletion(prompt, length=max_length, t=temperature, top=top_probability)\n",
        "\n",
        "Query = query.simple_completion()\n",
        "lines = Query.splitlines()"
      ],
      "execution_count": 17,
      "outputs": [
        {
          "output_type": "stream",
          "name": "stdout",
          "text": [
            " [Battery life]\n",
            "###\n",
            "Review: I bought this phone a few days ago and I'm very happy with it.\n"
          ]
        }
      ]
    },
    {
      "cell_type": "code",
      "metadata": {
        "colab": {
          "base_uri": "https://localhost:8080/",
          "height": 36
        },
        "id": "ZqCVVvBjGHmG",
        "outputId": "5e9cdb7b-aac6-4cf1-e9e3-be00c610d029"
      },
      "source": [
        "lines[0]"
      ],
      "execution_count": 18,
      "outputs": [
        {
          "output_type": "execute_result",
          "data": {
            "application/vnd.google.colaboratory.intrinsic+json": {
              "type": "string"
            },
            "text/plain": [
              "' [Battery life]'"
            ]
          },
          "metadata": {},
          "execution_count": 18
        }
      ]
    },
    {
      "cell_type": "code",
      "metadata": {
        "id": "j_spRRfAGRCT"
      },
      "source": [
        ""
      ],
      "execution_count": null,
      "outputs": []
    }
  ]
}